{
 "cells": [
  {
   "cell_type": "code",
   "execution_count": 1,
   "metadata": {},
   "outputs": [],
   "source": [
    "import pandas as pd\n"
   ]
  },
  {
   "cell_type": "code",
   "execution_count": 2,
   "metadata": {},
   "outputs": [
    {
     "name": "stdout",
     "output_type": "stream",
     "text": [
      "01_Exact_Replication.rmd\r\n",
      "02_Data_Exploration.Rmd\r\n",
      "03_Robustness_Checks.rmd\r\n",
      "04_Evaluate_Preprocessing.nb.html\r\n",
      "04_Evaluate_Preprocessing.rmd\r\n",
      "count_empty_tweets.ipynb\r\n",
      "dict_sizes.csv\r\n",
      "dict_sizes_kopie.csv\r\n",
      "dtm_after_all_tweets_AW.csv\r\n",
      "dtm_after_all_tweets_lowercasing_and_sparse.csv\r\n",
      "dtm_after_all_tweets_lowercasing.csv\r\n",
      "dtm_after_all_tweets_sparse.csv\r\n",
      "dtm_after_all_tweets_stemming_and_sparse.csv\r\n",
      "dtm_after_all_tweets_stemming.csv\r\n",
      "dtm_after_all_tweets_stopwords.csv\r\n",
      "dtm_after_AW.csv\r\n",
      "dtm_after_lowercasing_and_sparse.csv\r\n",
      "dtm_after_lowercasing.csv\r\n",
      "dtm_after_sparse.csv\r\n",
      "dtm_after_stemming_and_sparse.csv\r\n",
      "dtm_after_stemming.csv\r\n",
      "dtm_after_stopwords.csv\r\n",
      "dtm_before_AW.csv\r\n",
      "dtm_before_lowercasing_and_sparse.csv\r\n",
      "dtm_before_lowercasing.csv\r\n",
      "dtm_before_sparse.csv\r\n",
      "dtm_before_stemming_and_sparse.csv\r\n",
      "dtm_before_stemming.csv\r\n",
      "dtm_before_stopwords.csv\r\n",
      "lowercasing_and_sparse.csv\r\n",
      "lowercasing.csv\r\n",
      "results_vanilla.csv\r\n",
      "sparse.csv\r\n",
      "\u001b[0m\u001b[01;35msplitseed_boxplot_preproc_comparison_1000_2.jpeg\u001b[0m\r\n",
      "\u001b[01;35msplitseed_boxplot_preproc_comparison_1000_4.jpeg\u001b[0m\r\n",
      "\u001b[01;35msplitseed_boxplot_preproc_comparison_1000.jpeg\u001b[0m\r\n",
      "\u001b[01;35msplitseed_boxplot_preproc_comparison_100.jpeg\u001b[0m\r\n",
      "\u001b[01;35msplitseed_boxplot_preproc_comparison_101.jpeg\u001b[0m\r\n",
      "\u001b[01;35msplitseed_boxplot_preproc_comparison_105.jpeg\u001b[0m\r\n",
      "\u001b[01;35msplitseed_boxplot_preproc_comparison1.jpeg\u001b[0m\r\n",
      "\u001b[01;35msplitseed_boxplot_preproc_comparison22.jpeg\u001b[0m\r\n",
      "\u001b[01;35msplitseed_boxplot_preproc_comparison.jpeg\u001b[0m\r\n",
      "stemming_and_sparse.csv\r\n",
      "stemming.csv\r\n",
      "stopwords.csv\r\n"
     ]
    }
   ],
   "source": [
    "ls\n"
   ]
  },
  {
   "cell_type": "code",
   "execution_count": 14,
   "metadata": {},
   "outputs": [
    {
     "data": {
      "text/plain": [
       "0.14646464646464646"
      ]
     },
     "execution_count": 14,
     "metadata": {},
     "output_type": "execute_result"
    }
   ],
   "source": [
    "def count_tweets_with_n_words(dtm_file, n):\n",
    "    df = pd.read_csv(dtm_file, index_col=0)\n",
    "    the_sum = df.sum(axis='columns')\n",
    "    tweets_with_n_words = the_sum == n\n",
    "    nr_tweets_with_n_words = sum(tweets_with_n_words)\n",
    "    return nr_tweets_with_n_words/len(tweets_with_n_words)\n",
    "    \n"
   ]
  },
  {
   "cell_type": "code",
   "execution_count": 15,
   "metadata": {},
   "outputs": [
    {
     "name": "stdout",
     "output_type": "stream",
     "text": [
      "0.14646464646464646\n",
      "0.23737373737373738\n"
     ]
    }
   ],
   "source": [
    "print(count_tweets_with_n_words(\"dtm_after_AW.csv\",0))\n",
    "print(count_tweets_with_n_words(\"dtm_after_AW.csv\",1))"
   ]
  },
  {
   "cell_type": "code",
   "execution_count": 16,
   "metadata": {},
   "outputs": [
    {
     "name": "stdout",
     "output_type": "stream",
     "text": [
      "0.020202020202020204\n",
      "0.08080808080808081\n"
     ]
    }
   ],
   "source": [
    "print(count_tweets_with_n_words(\"dtm_after_stopwords.csv\",0))\n",
    "print(count_tweets_with_n_words(\"dtm_after_stopwords.csv\",1))"
   ]
  },
  {
   "cell_type": "code",
   "execution_count": 17,
   "metadata": {},
   "outputs": [
    {
     "name": "stdout",
     "output_type": "stream",
     "text": [
      "0.2474747474747475\n",
      "0.35353535353535354\n"
     ]
    }
   ],
   "source": [
    "print(count_tweets_with_n_words(\"dtm_after_stemming.csv\",0))\n",
    "print(count_tweets_with_n_words(\"dtm_after_stemming.csv\",1))"
   ]
  },
  {
   "cell_type": "code",
   "execution_count": 18,
   "metadata": {},
   "outputs": [
    {
     "name": "stdout",
     "output_type": "stream",
     "text": [
      "0.12626262626262627\n",
      "0.24242424242424243\n"
     ]
    }
   ],
   "source": [
    "print(count_tweets_with_n_words(\"dtm_after_lowercasing.csv\",0))\n",
    "print(count_tweets_with_n_words(\"dtm_after_lowercasing.csv\",1))"
   ]
  },
  {
   "cell_type": "code",
   "execution_count": 19,
   "metadata": {},
   "outputs": [
    {
     "name": "stdout",
     "output_type": "stream",
     "text": [
      "0.0\n",
      "0.0\n"
     ]
    }
   ],
   "source": [
    "print(count_tweets_with_n_words(\"dtm_after_sparse.csv\",0))\n",
    "print(count_tweets_with_n_words(\"dtm_after_sparse.csv\",1))"
   ]
  },
  {
   "cell_type": "code",
   "execution_count": 20,
   "metadata": {},
   "outputs": [
    {
     "name": "stdout",
     "output_type": "stream",
     "text": [
      "0.0\n",
      "0.0\n"
     ]
    }
   ],
   "source": [
    "print(count_tweets_with_n_words(\"dtm_after_stemming_and_sparse.csv\",0))\n",
    "print(count_tweets_with_n_words(\"dtm_after_stemming_and_sparse.csv\",1))"
   ]
  },
  {
   "cell_type": "code",
   "execution_count": null,
   "metadata": {},
   "outputs": [],
   "source": []
  }
 ],
 "metadata": {
  "kernelspec": {
   "display_name": "Python 3",
   "language": "python",
   "name": "python3"
  },
  "language_info": {
   "codemirror_mode": {
    "name": "ipython",
    "version": 3
   },
   "file_extension": ".py",
   "mimetype": "text/x-python",
   "name": "python",
   "nbconvert_exporter": "python",
   "pygments_lexer": "ipython3",
   "version": "3.7.3"
  }
 },
 "nbformat": 4,
 "nbformat_minor": 4
}
